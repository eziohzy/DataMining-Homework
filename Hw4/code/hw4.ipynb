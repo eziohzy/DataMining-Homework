{
 "cells": [
  {
   "cell_type": "markdown",
   "metadata": {
    "collapsed": false
   },
   "source": [
    "# Functions for Preprocess, HMM"
   ]
  },
  {
   "cell_type": "code",
   "execution_count": 1,
   "metadata": {
    "collapsed": false
   },
   "outputs": [],
   "source": [
    "import numpy as np\r\n",
    "###############\r\n",
    "#Reading file #\r\n",
    "###############\r\n",
    "def parse_HMM(file_path):\r\n",
    "    with open(file_path) as f:\r\n",
    "        # SIZE=1024\r\n",
    "        # f.read(SIZE)\r\n",
    "        data = f.readline()\r\n",
    "        data= data.split()\r\n",
    "        # print(data[0], data[1], data[2])\r\n",
    "        transaction_length=int(data[0])\r\n",
    "        emission_length=int(data[1])\r\n",
    "        map_=data[2]\r\n",
    "        transaction_matrix=np.zeros((transaction_length,transaction_length))\r\n",
    "        emission_matrix=np.zeros((transaction_length,emission_length))\r\n",
    "        initial_prob=np.zeros((transaction_length,1))\r\n",
    "        data = f.readline()\r\n",
    "        data= data.split()\r\n",
    "        for i in range(transaction_length):\r\n",
    "            initial_prob[i] = float('0'+data[i])\r\n",
    "        for i in range(transaction_length):\r\n",
    "            data = f.readline()\r\n",
    "            data= data.split()\r\n",
    "            for j in range(transaction_length):\r\n",
    "                transaction_matrix[i][j]=float('0'+data[j])\r\n",
    "            k=0\r\n",
    "            for j in range(transaction_length, transaction_length+emission_length, 1):\r\n",
    "                # print(j)\r\n",
    "                emission_matrix[i][k] = float('0'+data[j])\r\n",
    "                k+=1\r\n",
    "        # half hour for that?\r\n",
    "        # str2=\".33\"str1='0'print(str1+str2)\r\n",
    "    return transaction_matrix, emission_matrix, list(map_), initial_prob\r\n",
    "def parse_fa(file_path):\r\n",
    "    with open(file_path) as f:\r\n",
    "\r\n",
    "        # ignore first line, elim \"\\n\", stitch\r\n",
    "        # ignore first line\r\n",
    "        line = f.readline()\r\n",
    "        data=''\r\n",
    "\r\n",
    "        lines = f.readlines()\r\n",
    "        for line in lines:\r\n",
    "           data+=line.rstrip() \r\n",
    "    return data.upper()\r\n",
    "\r\n",
    "\r\n",
    "\r\n",
    "class HMM:\r\n",
    "    # \r\n",
    "    def viterbi(self, seq, transaction_matrix, emission_matrix, map_, initial_prob):\r\n",
    "\r\n",
    "        num_state = transaction_matrix.shape[0]\r\n",
    "        len_seq=len(seq)\r\n",
    "        print(num_state, len_seq)\r\n",
    "        ###############\r\n",
    "        #Table initialization #\r\n",
    "        ###############\r\n",
    "        dp = np.zeros((num_state, len_seq))\r\n",
    "        trace_table=np.zeros((num_state, len_seq), dtype=int)\r\n",
    "        dp[:, 0]=np.log(initial_prob.reshape(num_state))\r\n",
    "        ###############\r\n",
    "        #Table generation #\r\n",
    "        ###############\r\n",
    "        for i in range(1, len_seq):\r\n",
    "            for k in range(num_state):\r\n",
    "                seq_prob = dp[:, i-1]+np.log(transaction_matrix[:, k])+ \\\r\n",
    "                    np.log(emission_matrix[k, map_.index(seq[i])])\r\n",
    "                trace_table[k, i-1]=np.argmax(seq_prob)\r\n",
    "                dp[k, i] = np.max(seq_prob)\r\n",
    "        return dp, trace_table\r\n",
    "        # using another table to get the result .\r\n",
    "    ###############\r\n",
    "    #Trace back Part #\r\n",
    "    ###############\r\n",
    "    def build_trace_path(self, dp, trace_table):\r\n",
    "        len_seq=dp.shape[1]\r\n",
    "    \r\n",
    "        result_table=np.zeros(len_seq,dtype=int)\r\n",
    "        last_state = np.argmax(dp[:,-1])\r\n",
    "        result_table[len_seq-1]=last_state\r\n",
    "        # need to include the 0\r\n",
    "        for i in range(len_seq-2, -1, -1):\r\n",
    "            # print(i)\r\n",
    "            last_state= trace_table[last_state, i]\r\n",
    "            result_table[i]=last_state\r\n",
    "        return result_table"
   ]
  },
  {
   "cell_type": "markdown",
   "metadata": {
    "collapsed": false
   },
   "source": [
    "# Run and output"
   ]
  },
  {
   "cell_type": "code",
   "execution_count": 6,
   "metadata": {
    "collapsed": false
   },
   "outputs": [
    {
     "name": "stdout",
     "output_type": "stream",
     "text": [
      "688 segments in state B, total segments 1376\r"
     ]
    }
   ],
   "source": [
    "\r\n",
    "\r\n",
    "# if name == \"__main__\":\r\n",
    "# about 28 sec\r\n",
    "HMM_PATH=\"/home/aistudio/work/data/example.hmm\"\r\n",
    "FA_PATH=\"/home/aistudio/work/data/example.fa\"\r\n",
    "\r\n",
    "transaction_matrix, emission_matrix, map_, initial_prob= parse_HMM(HMM_PATH)\r\n",
    "test_genome= parse_fa(FA_PATH)\r\n",
    "# print(test_genome)\r\n",
    "# print(transaction_matrix, emission_matrix, map_, initial_prob)\r\n",
    "# test_genome=test_genome[0:10077]\r\n",
    "\r\n",
    "\r\n",
    "hmm=HMM()\r\n",
    "\r\n",
    "dp, trace_table= hmm.viterbi(test_genome, transaction_matrix, emission_matrix, map_, initial_prob)\r\n",
    "# professor's requiement|\r\n",
    "print(\"### final result of S(k,i):\")\r\n",
    "print(dp[:,-1])\r\n",
    "\r\n",
    "result_table = hmm.build_trace_path(dp, trace_table)\r\n",
    "#output the summary \r\n",
    "\r\n",
    "i=0 \r\n",
    "j=0\r\n",
    "total_num_seg=0\r\n",
    "total_num_B=0\r\n",
    "state_l=[\"A\",\"B\"]\r\n",
    "while(j<len(result_table)-1):\r\n",
    "    j+=1   \r\n",
    "    if(result_table[j]!=result_table[i]):\r\n",
    "        # start i, end j-1\r\n",
    "        # to make the index start from 1\r\n",
    "        print(\"%r  %r State%r \"%(i+1, j-1+1, state_l[result_table[i]]))\r\n",
    "        if(result_table[i]==1):\r\n",
    "            total_num_B+=1\r\n",
    "        total_num_seg+=1\r\n",
    "        # update i\r\n",
    "        i=j\r\n",
    "   \r\n",
    "# start i,end j\r\n",
    "# to make the index start from 1\r\n",
    "print(\"%r  %r State%r \"%(i+1, j+1, state_l[result_table[i]]))\r\n",
    "if(result_table[i]==1):\r\n",
    "    total_num_B+=1\r\n",
    "total_num_seg+=1\r\n",
    "print(\"###  \")\r\n",
    "print(\"%r segments in state B, total segments %r\"%(total_num_B, total_num_seg)) "
   ]
  },
  {
   "cell_type": "markdown",
   "metadata": {
    "collapsed": false
   },
   "source": [
    "![](https://ai-studio-static-online.cdn.bcebos.com/7e7d728f28d14df0aa45834a042655b26ba90f48e22048dc964e579b4bf3f839)\n",
    "![](https://ai-studio-static-online.cdn.bcebos.com/e538b8f200dc4279a12be282c0c796bf4688ce7d99a645a38480bfcbb93d9b0e)\n"
   ]
  },
  {
   "cell_type": "code",
   "execution_count": null,
   "metadata": {
    "collapsed": false
   },
   "outputs": [],
   "source": []
  }
 ],
 "metadata": {
  "kernelspec": {
   "display_name": "PaddlePaddle 2.0.0b0 (Python 3.5)",
   "language": "python",
   "name": "py35-paddle1.2.0"
  },
  "language_info": {
   "codemirror_mode": {
    "name": "ipython",
    "version": 3
   },
   "file_extension": ".py",
   "mimetype": "text/x-python",
   "name": "python",
   "nbconvert_exporter": "python",
   "pygments_lexer": "ipython3",
   "version": "3.7.4"
  }
 },
 "nbformat": 4,
 "nbformat_minor": 1
}
