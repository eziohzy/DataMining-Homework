{
 "cells": [
  {
   "cell_type": "markdown",
   "metadata": {
    "collapsed": false
   },
   "source": [
    "# Function for Decision Tree"
   ]
  },
  {
   "cell_type": "code",
   "execution_count": null,
   "metadata": {
    "collapsed": false
   },
   "outputs": [],
   "source": [
    "import numpy as np\r\n",
    "import pandas as pd\r\n",
    "class Node(object):\r\n",
    "   def __init__(self):\r\n",
    "       self.value =None\r\n",
    "       self.left =None\r\n",
    "       self.right =None\r\n",
    "       self.is_leaf=False\r\n",
    "class decision_tree(object):\r\n",
    "    def __init__(self):\r\n",
    "        self.tree_=None\r\n",
    "    def clac_max_infogain(self, X, y):\r\n",
    "\r\n",
    "        features = X.columns\r\n",
    "        best_feature = None\r\n",
    "        best_infogain = [float('-inf')]\r\n",
    "        entP = self.calc_entropy(y)\r\n",
    "        for feature_name in features:\r\n",
    "            info_gain = self.calc_infogain(X[feature_name], y, entP)\r\n",
    "            if info_gain[0] > best_infogain[0]:\r\n",
    "                best_feature = feature_name\r\n",
    "                best_infogain = info_gain\r\n",
    "\r\n",
    "        return best_feature, best_infogain\r\n",
    "\r\n",
    "    # def info_gain(self, feature, y, entP):\r\n",
    "\r\n",
    "    #     m = y.shape[0]\r\n",
    "    #     uni_value = pd.unique(feature)\r\n",
    "\r\n",
    "    #     ent = 0\r\n",
    "    #     for value in uni_value:\r\n",
    "    #         Dv = y[feature == value]  #\r\n",
    "    #         # 这里又使用了broadcast\r\n",
    "    #         ent(Dv)\r\n",
    "    #         ent += Dv.shape[0] / m * ent_sub\r\n",
    "\r\n",
    "    #     gain = entP - ent  # 原书中4.2式\r\n",
    "    #     return [gain]\r\n",
    "\r\n",
    "    def calc_infogain(self, feature, y, entP):\r\n",
    "        total = y.shape[0]\r\n",
    "        uni_value = pd.unique(feature)\r\n",
    "        ent = 0\r\n",
    "        info_gain=0\r\n",
    "        for value in uni_value:\r\n",
    "            y_feature =y[feature==value]\r\n",
    "            # the size of p= [1,2], elegent\r\n",
    "            ent_split = self.calc_entropy(y_feature)\r\n",
    "            # 集成一下\r\n",
    "            ent+= y_feature.shape[0]/total*ent_split\r\n",
    "        info_gain=entP-ent\r\n",
    "        return [info_gain]\r\n",
    "\r\n",
    "    def calc_entropy(self, y):\r\n",
    "        # 这是用了broad cast\r\n",
    "        # p 1    0.533333\r\n",
    "        # 0    0.466667\r\n",
    "        p = pd.value_counts(y) / y.shape[0]  # 计算各类样本所占比率\r\n",
    "        # print(\"p\",p)\r\n",
    "        ent = np.sum(-p * np.log2(p))\r\n",
    "        return ent\r\n",
    "        \r\n",
    "\r\n",
    "    # def fit(self, X_train, y_train):\r\n",
    "\r\n",
    "\r\n",
    "    #     self.tree_ = self.generate_tree(X_train, y_train)\r\n",
    "\r\n",
    "\r\n",
    "    #     return self\r\n",
    "\r\n",
    "    def generate_tree(self, X, y):\r\n",
    "        # declare a class\r\n",
    "        tree=Node()\r\n",
    "        # use pandas, means y is all unique\r\n",
    "        # print(\"y\",y)\r\n",
    "\r\n",
    "        if y.nunique()==1:\r\n",
    "            tree.value= y.values[0]\r\n",
    "            tree.is_leaf=True\r\n",
    "            return tree\r\n",
    "        # if y.empty:\r\n",
    "        #     print(\"empty\")\r\n",
    "        #     return y\r\n",
    "        # clac info_gain\r\n",
    "        feature_criteria, info_gain = self.clac_max_infogain(X, y)\r\n",
    "        feature_values = X.loc[:, feature_criteria]\r\n",
    "        tree.value=feature_criteria\r\n",
    "        sub_x = X.drop(feature_criteria, axis=1)\r\n",
    "        # here assume feature has only 2 ways\r\n",
    "        # yes\r\n",
    "        # need to review the ooj of python\r\n",
    "        tree.left = self.generate_tree(sub_x[feature_values==1], y[feature_values==1])\r\n",
    "        tree.right = self.generate_tree(sub_x[feature_values==0], y[feature_values==0])\r\n",
    "        return tree\r\n",
    "    def predict(self, X,tree):\r\n",
    "        for i in range(X.shape[0]):\r\n",
    "            ret = self.predict_single(X.iloc[i, :],tree)\r\n",
    "            print(ret)\r\n",
    "            # ret_list=[]\r\n",
    "            # ret_list.append[ret]\r\n",
    "        # return ret_list\r\n",
    "    def predict_single(self, x, tree):\r\n",
    "        if(tree==None):\r\n",
    "            print(\"train a tree firstly\")\r\n",
    "            # print(tree.value)\r\n",
    "        # print(x[tree.value])\r\n",
    "        # print(\"x[2]\",x[2])\r\n",
    "        # feature_value = x.loc[:, tree.value]\r\n",
    "        # print(feature_value[0]==1)\r\n",
    "        if(tree.is_leaf==True):\r\n",
    "            # print(tree.value)\r\n",
    "            return tree.value\r\n",
    "        elif(x[tree.value]==1):\r\n",
    "            ret = self.predict_single(x, tree.left)\r\n",
    "            return ret\r\n",
    "        elif(x[tree.value]==0):\r\n",
    "            ret= self.predict_single(x, tree.right)\r\n",
    "            return ret\r\n",
    "        \r\n",
    "\r\n",
    "# build.fit(data3.iloc[:, :5], data3.iloc[:, 5])\r\n",
    "\r\n",
    "\r\n",
    "# print(data3['smoke'])\r\n",
    "#####Training the tree\r\n",
    "# tree = DecisionTree(criterion='infogain')\r\n",
    "\r\n",
    "\r\n",
    "##test for predict_single\r\n",
    "# test = pd.DataFrame(np.zeros((1,5), dtype=int),columns=[\"chest pain\" , \"male\" ,\"smoke\", \"drink\", \"exercise\"])\r\n",
    "# print(test)\r\n",
    "# columns = list(test.columns)\r\n",
    "# print(columns.index(\"smoke\"))\r\n",
    "# feature_values = test.loc[:, \"smoke\"]\r\n",
    "# print(feature_values==1)\r\n",
    "# predict= build.predict_single(test,tree)\r\n",
    "\r\n",
    "# file_name=  '/home/aistudio/work/data/hw2-decision-tree-input_testing.txt'\r\n",
    "# pd_file_name =file_name.replace('.txt','.csv')\r\n",
    "# shutil.copy(file_name, pd_file_name)\r\n",
    "\r\n",
    "# test_data = pd.read_csv(pd_file_name)\r\n",
    "# print(test_data)\r\n",
    "\r\n",
    "# predict= build.predict(test,tree)\r\n",
    "# print(predict)\r\n",
    "\r\n",
    "\r\n"
   ]
  },
  {
   "cell_type": "code",
   "execution_count": null,
   "metadata": {
    "collapsed": false
   },
   "outputs": [],
   "source": []
  },
  {
   "cell_type": "markdown",
   "metadata": {
    "collapsed": false
   },
   "source": [
    "# Training"
   ]
  },
  {
   "cell_type": "code",
   "execution_count": 52,
   "metadata": {
    "collapsed": false
   },
   "outputs": [
    {
     "name": "stdout",
     "output_type": "stream",
     "text": [
      "    chest pain  male  smoke  drink  exercise  heart attack\n",
      "0            1     1      1      1         0             1\n",
      "1            1     0      1      1         0             1\n",
      "2            1     0      0      0         1             0\n",
      "3            1     1      1      1         1             1\n",
      "4            1     0      1      0         0             1\n",
      "5            1     1      1      0         0             1\n",
      "6            1     1      1      0         1             1\n",
      "7            0     1      1      1         0             1\n",
      "8            0     0      1      1         0             1\n",
      "9            0     1      1      0         0             0\n",
      "10           0     1      0      1         0             0\n",
      "11           0     1      1      0         1             0\n",
      "12           0     0      1      0         1             0\n",
      "13           0     0      0      1         1             0\n",
      "14           0     1      0      1         1             0\n"
     ]
    }
   ],
   "source": [
    "import shutil\r\n",
    "####Read_data\r\n",
    "file_name=  '/home/aistudio/work/data/hw2-decision-tree-input.txt'\r\n",
    "pd_file_name =file_name.replace('.txt','.csv')\r\n",
    "shutil.copy(file_name, pd_file_name)\r\n",
    "\r\n",
    "data3 = pd.read_csv(pd_file_name)\r\n",
    "print(data3)\r\n",
    "build = decision_tree()\r\n",
    "tree = build.generate_tree(data3.iloc[:, :5], data3.iloc[:, 5])\r\n",
    "# print(tree.value)\r\n",
    "# print(tree.left.value)\r\n",
    "# print(tree.right.value)\r\n",
    "# print(tree.left.left.value)\r\n",
    "# print(tree.left.right.value)"
   ]
  },
  {
   "cell_type": "markdown",
   "metadata": {
    "collapsed": false
   },
   "source": [
    "# Output the tree\n",
    "\n",
    "![](https://ai-studio-static-online.cdn.bcebos.com/016d8d0b211d4e118233297757ece426166f2b5c46e54af2935ecf4afa27b994)\n",
    "\n"
   ]
  },
  {
   "cell_type": "code",
   "execution_count": 54,
   "metadata": {
    "collapsed": false
   },
   "outputs": [
    {
     "name": "stdout",
     "output_type": "stream",
     "text": [
      "The root node is attribute ___'smoke'. Its left edge has label ___'yes'.  Its right edge has label ___'no '. Its left child node’s attribute is ____['chest pain']. Its right child node’s attribute is _____['no heart attack'].\n"
     ]
    }
   ],
   "source": [
    "# import treePlottter\r\n",
    "\r\n",
    "#####/Print & Plot the tree\r\n",
    "result={0:\"no heart attack\",1:\"heart attack\"}\r\n",
    "label_dic={0:\"no \",1:\"yes\"}\r\n",
    "\r\n",
    "\r\n",
    "formatter= \\\r\n",
    "\"The root node is attribute ___%r. Its left edge has label ___%r.  \\\r\n",
    "Its right edge has label ___%r. Its left child node’s attribute is ____%r. \\\r\n",
    "Its right child node’s attribute is _____%r.\"\r\n",
    "# print(tree.value)\r\n",
    "# print(tree.left.value)\r\n",
    "# print(tree.right.value)\r\n",
    "# print(tree.left.left.value)\r\n",
    "# print(tree.left.right.value)\r\n",
    "\r\n",
    "print(formatter  \\\r\n",
    "    %(tree.value ,label_dic[1], label_dic[0], \\\r\n",
    "    [result[tree.left.value] if tree.left.is_leaf else tree.left.value], \\\r\n",
    "    [result[tree.right.value] if tree.right.is_leaf else tree.left.value]\r\n",
    "    ))\r\n"
   ]
  },
  {
   "cell_type": "markdown",
   "metadata": {
    "collapsed": false
   },
   "source": [
    "# Testing"
   ]
  },
  {
   "cell_type": "code",
   "execution_count": 55,
   "metadata": {
    "collapsed": false
   },
   "outputs": [
    {
     "name": "stdout",
     "output_type": "stream",
     "text": [
      "    chest pain  male  smoke  drink  exercise  heart attack\n",
      "0            1     1      1      1         0             1\n",
      "1            0     0      1      1         0             1\n",
      "2            1     1      0      0         1             0\n",
      "3            1     1      0      1         1             1\n",
      "4            1     0      1      1         0             1\n",
      "5            1     1      1      0         1             1\n",
      "6            1     1      1      0         1             1\n",
      "7            0     1      1      0         0             1\n",
      "8            0     0      0      1         0             1\n",
      "9            0     0      1      0         0             0\n",
      "10           1     1      0      1         0             0\n",
      "11           0     0      1      0         1             0\n",
      "12           0     0      0      0         1             0\n",
      "13           0     0      0      0         1             0\n",
      "14           0     1      0      1         0             0\n",
      "1\n",
      "1\n",
      "0\n",
      "0\n",
      "1\n",
      "1\n",
      "1\n",
      "0\n",
      "0\n",
      "0\n",
      "0\n",
      "0\n",
      "0\n",
      "0\n",
      "0\n",
      "Predict result: None\n"
     ]
    }
   ],
   "source": [
    "#####predict\r\n",
    "####Read_data\r\n",
    "file_name=  '/home/aistudio/work/data/hw2-decision-tree-input_testing.txt'\r\n",
    "pd_file_name =file_name.replace('.txt','.csv')\r\n",
    "shutil.copy(file_name, pd_file_name)\r\n",
    "\r\n",
    "test_data = pd.read_csv(pd_file_name)\r\n",
    "print(test_data)\r\n",
    "\r\n",
    "print(\"Predict result:\", build.predict(test_data, tree))"
   ]
  },
  {
   "cell_type": "code",
   "execution_count": null,
   "metadata": {
    "collapsed": false
   },
   "outputs": [],
   "source": []
  }
 ],
 "metadata": {
  "kernelspec": {
   "display_name": "PaddlePaddle 1.8.4 (Python 3.5)",
   "language": "python",
   "name": "py35-paddle1.2.0"
  },
  "language_info": {
   "codemirror_mode": {
    "name": "ipython",
    "version": 3
   },
   "file_extension": ".py",
   "mimetype": "text/x-python",
   "name": "python",
   "nbconvert_exporter": "python",
   "pygments_lexer": "ipython3",
   "version": "3.7.4"
  }
 },
 "nbformat": 4,
 "nbformat_minor": 1
}
